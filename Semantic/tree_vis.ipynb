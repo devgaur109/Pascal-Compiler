{
 "cells": [
  {
   "cell_type": "code",
   "execution_count": 3,
   "metadata": {},
   "outputs": [
    {
     "name": "stdout",
     "output_type": "stream",
     "text": [
      "                                                                                                                                                                                                                                                                                                    program                                                                                                                                                                                                                                                                           \n",
      "                         ┌─────────────────────────────────────────────────────────────────────────────────────────────────────────────────────────────────────────────────────────────────────────────────────────────────────────────────────────────────────────────────────────────────────────────┴─────────────────┐                                                                                                                                                                                                                                                                      \n",
      "                         │                                                                                                                                                                                                                                                                                             block                                                                                                                                                                                                                                                          \n",
      "                         │                                                                                                                                                                                                                                                                                               │                                                                                                                                                                                                                                                                      \n",
      "                         │                                                                                                                                                                                                                                                                                           stmt_list                                                                                                                                                                                                                                                        \n",
      "                         │                                                      ┌────────────────────────────────────┬──────────────────────────────┬────────────────────────────────────────────────────────────────────────────────────────────────────────────────────────────────────────────────────────────────────┼───────────────────────────────────────────────────────────────────────────────────────────────────────────────────────────────────────────────────────────────────────────────────────────────────────┬──────────────────────────────────────────────┐               \n",
      "                         │                                                      │                                    │                              │                                                                                                                                                                  while                                                                                                                                                                                                     │                                              │     \n",
      "                         │                                                      │                                    │                              │                                           ┌────────────────────────────────────────────────────────────────────────────────────────────────────────────────────────┴───────────────────────────────┐                                                                                                                                                                       │                                              │               \n",
      "                         │                                                      │                                    │                              │                                           │                                                                                                                                                    stmt_list                                                                                                                                                                   │                                              │     \n",
      "                         │                                                      │                                    │                              │                                           │                                                         ┌──────────────────────────────────────────────────────────────────────────────────────────────┴────────────────┬────────────────────────────────────────────────────────────────────────────┐                                                                         │                                              │               \n",
      "                  var_decl_section                                              │                                    │                              │                                           │                                                       assign                                                                                                            if                                                                           │                                                                         │                                              │     \n",
      "                         │                                                      │                                    │                              │                                           │                          ┌──────────────────────────────┴───────────────┐                                                              ┌────────────────────────────────┴────────────────┐                                                           │                                                                         │                                              │               \n",
      "                   var_decl_list                                                │                                    │                              │                                           │                          │                                            minus                                                            │                                             stmt_list                                                       │                                                                         │                                              │     \n",
      "                         │                                                      │                                    │                              │                                           │                          │              ┌───────────────────────────────┴─────────────┐                                                │                                                 │                                                           │                                                                         │                                              │               \n",
      "                      var_decl                                                  │                                    │                              │                                           │                          │              │                                            mul                                               │                                               assign                                                      assign                                                                      │                                          write_list\n",
      "   ┌─────────────────────┼─────────────────────┐                                │                                    │                              │                                           │                          │              │                               ┌─────────────┴──────────────┐                                 │                                ┌────────────────┴───────────────┐                           ┌───────────────┴──────────────┐                                                          │                                              │               \n",
      "variable              variable              variable                            │                                    │                            assign                                       neq                         │              │                              div                           │                                neq                               │                               plus                         │                             div                                                         │                                           id_list  \n",
      "   │                     │                     │                                │                                    │               ┌──────────────┴──────────────┐             ┌──────────────┴────────────┐             │              │               ┌───────────────┴─────────────┐              │                 ┌───────────────┴───────────────┐                │                ┌───────────────┴─────────────┐             │               ┌──────────────┴────────────┐                                             │                                              │               \n",
      "  type                  type                  type                         write_string                             read             id                           num            id                         num            id             id              id                           num            num                id                             num               id               id                           num            id              id                         num                                       write_string                                        id    \n",
      "   │                     │                     │                                │                                    │               │                             │             │                           │             │              │               │                             │              │                 │                               │                │                │                             │             │               │                           │                                             │                                              │               \n",
      "  int                   int                   int                             \"Enter                               number          count                           0           number                        0           digit          number          number                          10             10              digit                             0              count            count                           1           number          number                        10                                           \"The                                          count   \n",
      "   │                     │                     │               ┌────────────────┴───────────────────┐                │               │                             │             │                           │             │              │               │                             │              │                 │                               │                │                │                             │             │               │                           │             ┌──────────────┬────────────────┼─────────────────┬────────────┐               │               \n",
      "  ...                   ...                   ...              a                                 number:\"           ...             ...                           ...           ...                         ...           ...            ...             ...                           ...            ...               ...                             ...              ...              ...                           ...           ...             ...                         ...          number           of             digits             is:           \"              ...    \n",
      "\n"
     ]
    }
   ],
   "source": [
    "from nltk.tree import *\n",
    "import sys\n",
    "# assign your output (generalied list of the syntax tree) to varaible text\n",
    "f = open('parse.txt', 'r', encoding='utf-8')\n",
    "# out = open('tree.txt', 'w+', encoding='utf-8')\n",
    "\n",
    "text = f.readlines()[0]\n",
    "f.close()\n",
    "\n",
    "\n",
    "\n",
    "\n",
    "text = text.replace(\"(\", \"ob\")    #in the syntax tree, 'ob' will display in place of '('\n",
    "text = text.replace(\")\", \"cb\")    #in the syntax tree, 'cb' will display in place of ')'\n",
    "text = text.replace(\"[\", \"(\")\n",
    "text = text.replace(\"]\", \")\")\n",
    "\n",
    "# sys.stdout = open(\"tree.txt\", \"w+\", encoding='utf-8')\n",
    "tree = Tree.fromstring(text)\n",
    "tree.pretty_print(unicodelines=True, nodedist=10)   \n",
    "\n"
   ]
  }
 ],
 "metadata": {
  "kernelspec": {
   "display_name": "base",
   "language": "python",
   "name": "python3"
  },
  "language_info": {
   "codemirror_mode": {
    "name": "ipython",
    "version": 3
   },
   "file_extension": ".py",
   "mimetype": "text/x-python",
   "name": "python",
   "nbconvert_exporter": "python",
   "pygments_lexer": "ipython3",
   "version": "3.9.12"
  }
 },
 "nbformat": 4,
 "nbformat_minor": 2
}
